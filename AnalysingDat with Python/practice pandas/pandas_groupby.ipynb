{
 "cells": [
  {
   "cell_type": "code",
   "execution_count": 2,
   "metadata": {},
   "outputs": [],
   "source": [
    "import pandas as pd\n",
    "import numpy as np\n",
    "import seaborn as sns"
   ]
  },
  {
   "cell_type": "code",
   "execution_count": 3,
   "metadata": {},
   "outputs": [],
   "source": [
    "df=pd.read_csv(\"sales.csv\")"
   ]
  },
  {
   "cell_type": "code",
   "execution_count": 7,
   "metadata": {},
   "outputs": [],
   "source": [
    "group=df['Total Profit'].groupby(df['Region'])"
   ]
  },
  {
   "cell_type": "code",
   "execution_count": 14,
   "metadata": {},
   "outputs": [
    {
     "data": {
      "text/html": [
       "<div>\n",
       "<style scoped>\n",
       "    .dataframe tbody tr th:only-of-type {\n",
       "        vertical-align: middle;\n",
       "    }\n",
       "\n",
       "    .dataframe tbody tr th {\n",
       "        vertical-align: top;\n",
       "    }\n",
       "\n",
       "    .dataframe thead th {\n",
       "        text-align: right;\n",
       "    }\n",
       "</style>\n",
       "<table border=\"1\" class=\"dataframe\">\n",
       "  <thead>\n",
       "    <tr style=\"text-align: right;\">\n",
       "      <th></th>\n",
       "      <th>Region</th>\n",
       "      <th>Country</th>\n",
       "      <th>Item Type</th>\n",
       "      <th>Sales Channel</th>\n",
       "      <th>Order Priority</th>\n",
       "      <th>Order Date</th>\n",
       "      <th>Order ID</th>\n",
       "      <th>Ship Date</th>\n",
       "      <th>Units Sold</th>\n",
       "      <th>Unit Price</th>\n",
       "      <th>Unit Cost</th>\n",
       "      <th>Total Revenue</th>\n",
       "      <th>Total Cost</th>\n",
       "      <th>Total Profit</th>\n",
       "    </tr>\n",
       "  </thead>\n",
       "  <tbody>\n",
       "    <tr>\n",
       "      <th>0</th>\n",
       "      <td>Australia and Oceania</td>\n",
       "      <td>Tuvalu</td>\n",
       "      <td>Baby Food</td>\n",
       "      <td>Offline</td>\n",
       "      <td>H</td>\n",
       "      <td>5/28/2010</td>\n",
       "      <td>669165933</td>\n",
       "      <td>6/27/2010</td>\n",
       "      <td>9925</td>\n",
       "      <td>255.28</td>\n",
       "      <td>159.42</td>\n",
       "      <td>2533654.00</td>\n",
       "      <td>1582243.50</td>\n",
       "      <td>951410.50</td>\n",
       "    </tr>\n",
       "    <tr>\n",
       "      <th>1</th>\n",
       "      <td>Central America and the Caribbean</td>\n",
       "      <td>Grenada</td>\n",
       "      <td>Cereal</td>\n",
       "      <td>Online</td>\n",
       "      <td>C</td>\n",
       "      <td>8/22/2012</td>\n",
       "      <td>963881480</td>\n",
       "      <td>9/15/2012</td>\n",
       "      <td>2804</td>\n",
       "      <td>205.70</td>\n",
       "      <td>117.11</td>\n",
       "      <td>576782.80</td>\n",
       "      <td>328376.44</td>\n",
       "      <td>248406.36</td>\n",
       "    </tr>\n",
       "    <tr>\n",
       "      <th>2</th>\n",
       "      <td>Europe</td>\n",
       "      <td>Russia</td>\n",
       "      <td>Office Supplies</td>\n",
       "      <td>Offline</td>\n",
       "      <td>L</td>\n",
       "      <td>5/2/2014</td>\n",
       "      <td>341417157</td>\n",
       "      <td>5/8/2014</td>\n",
       "      <td>1779</td>\n",
       "      <td>651.21</td>\n",
       "      <td>524.96</td>\n",
       "      <td>1158502.59</td>\n",
       "      <td>933903.84</td>\n",
       "      <td>224598.75</td>\n",
       "    </tr>\n",
       "    <tr>\n",
       "      <th>3</th>\n",
       "      <td>Sub-Saharan Africa</td>\n",
       "      <td>Sao Tome and Principe</td>\n",
       "      <td>Fruits</td>\n",
       "      <td>Online</td>\n",
       "      <td>C</td>\n",
       "      <td>6/20/2014</td>\n",
       "      <td>514321792</td>\n",
       "      <td>7/5/2014</td>\n",
       "      <td>8102</td>\n",
       "      <td>9.33</td>\n",
       "      <td>6.92</td>\n",
       "      <td>75591.66</td>\n",
       "      <td>56065.84</td>\n",
       "      <td>19525.82</td>\n",
       "    </tr>\n",
       "    <tr>\n",
       "      <th>4</th>\n",
       "      <td>Sub-Saharan Africa</td>\n",
       "      <td>Rwanda</td>\n",
       "      <td>Office Supplies</td>\n",
       "      <td>Offline</td>\n",
       "      <td>L</td>\n",
       "      <td>2/1/2013</td>\n",
       "      <td>115456712</td>\n",
       "      <td>2/6/2013</td>\n",
       "      <td>5062</td>\n",
       "      <td>651.21</td>\n",
       "      <td>524.96</td>\n",
       "      <td>3296425.02</td>\n",
       "      <td>2657347.52</td>\n",
       "      <td>639077.50</td>\n",
       "    </tr>\n",
       "    <tr>\n",
       "      <th>...</th>\n",
       "      <td>...</td>\n",
       "      <td>...</td>\n",
       "      <td>...</td>\n",
       "      <td>...</td>\n",
       "      <td>...</td>\n",
       "      <td>...</td>\n",
       "      <td>...</td>\n",
       "      <td>...</td>\n",
       "      <td>...</td>\n",
       "      <td>...</td>\n",
       "      <td>...</td>\n",
       "      <td>...</td>\n",
       "      <td>...</td>\n",
       "      <td>...</td>\n",
       "    </tr>\n",
       "    <tr>\n",
       "      <th>95</th>\n",
       "      <td>Sub-Saharan Africa</td>\n",
       "      <td>Mali</td>\n",
       "      <td>Clothes</td>\n",
       "      <td>Online</td>\n",
       "      <td>M</td>\n",
       "      <td>7/26/2011</td>\n",
       "      <td>512878119</td>\n",
       "      <td>9/3/2011</td>\n",
       "      <td>888</td>\n",
       "      <td>109.28</td>\n",
       "      <td>35.84</td>\n",
       "      <td>97040.64</td>\n",
       "      <td>31825.92</td>\n",
       "      <td>65214.72</td>\n",
       "    </tr>\n",
       "    <tr>\n",
       "      <th>96</th>\n",
       "      <td>Asia</td>\n",
       "      <td>Malaysia</td>\n",
       "      <td>Fruits</td>\n",
       "      <td>Offline</td>\n",
       "      <td>L</td>\n",
       "      <td>11/11/2011</td>\n",
       "      <td>810711038</td>\n",
       "      <td>12/28/2011</td>\n",
       "      <td>6267</td>\n",
       "      <td>9.33</td>\n",
       "      <td>6.92</td>\n",
       "      <td>58471.11</td>\n",
       "      <td>43367.64</td>\n",
       "      <td>15103.47</td>\n",
       "    </tr>\n",
       "    <tr>\n",
       "      <th>97</th>\n",
       "      <td>Sub-Saharan Africa</td>\n",
       "      <td>Sierra Leone</td>\n",
       "      <td>Vegetables</td>\n",
       "      <td>Offline</td>\n",
       "      <td>C</td>\n",
       "      <td>6/1/2016</td>\n",
       "      <td>728815257</td>\n",
       "      <td>6/29/2016</td>\n",
       "      <td>1485</td>\n",
       "      <td>154.06</td>\n",
       "      <td>90.93</td>\n",
       "      <td>228779.10</td>\n",
       "      <td>135031.05</td>\n",
       "      <td>93748.05</td>\n",
       "    </tr>\n",
       "    <tr>\n",
       "      <th>98</th>\n",
       "      <td>North America</td>\n",
       "      <td>Mexico</td>\n",
       "      <td>Personal Care</td>\n",
       "      <td>Offline</td>\n",
       "      <td>M</td>\n",
       "      <td>7/30/2015</td>\n",
       "      <td>559427106</td>\n",
       "      <td>8/8/2015</td>\n",
       "      <td>5767</td>\n",
       "      <td>81.73</td>\n",
       "      <td>56.67</td>\n",
       "      <td>471336.91</td>\n",
       "      <td>326815.89</td>\n",
       "      <td>144521.02</td>\n",
       "    </tr>\n",
       "    <tr>\n",
       "      <th>99</th>\n",
       "      <td>Sub-Saharan Africa</td>\n",
       "      <td>Mozambique</td>\n",
       "      <td>Household</td>\n",
       "      <td>Offline</td>\n",
       "      <td>L</td>\n",
       "      <td>2/10/2012</td>\n",
       "      <td>665095412</td>\n",
       "      <td>2/15/2012</td>\n",
       "      <td>5367</td>\n",
       "      <td>668.27</td>\n",
       "      <td>502.54</td>\n",
       "      <td>3586605.09</td>\n",
       "      <td>2697132.18</td>\n",
       "      <td>889472.91</td>\n",
       "    </tr>\n",
       "  </tbody>\n",
       "</table>\n",
       "<p>100 rows × 14 columns</p>\n",
       "</div>"
      ],
      "text/plain": [
       "                               Region                Country        Item Type  \\\n",
       "0               Australia and Oceania                 Tuvalu        Baby Food   \n",
       "1   Central America and the Caribbean                Grenada           Cereal   \n",
       "2                              Europe                 Russia  Office Supplies   \n",
       "3                  Sub-Saharan Africa  Sao Tome and Principe           Fruits   \n",
       "4                  Sub-Saharan Africa                 Rwanda  Office Supplies   \n",
       "..                                ...                    ...              ...   \n",
       "95                 Sub-Saharan Africa                   Mali          Clothes   \n",
       "96                               Asia               Malaysia           Fruits   \n",
       "97                 Sub-Saharan Africa           Sierra Leone       Vegetables   \n",
       "98                      North America                 Mexico    Personal Care   \n",
       "99                 Sub-Saharan Africa             Mozambique        Household   \n",
       "\n",
       "   Sales Channel Order Priority  Order Date   Order ID   Ship Date  \\\n",
       "0        Offline              H   5/28/2010  669165933   6/27/2010   \n",
       "1         Online              C   8/22/2012  963881480   9/15/2012   \n",
       "2        Offline              L    5/2/2014  341417157    5/8/2014   \n",
       "3         Online              C   6/20/2014  514321792    7/5/2014   \n",
       "4        Offline              L    2/1/2013  115456712    2/6/2013   \n",
       "..           ...            ...         ...        ...         ...   \n",
       "95        Online              M   7/26/2011  512878119    9/3/2011   \n",
       "96       Offline              L  11/11/2011  810711038  12/28/2011   \n",
       "97       Offline              C    6/1/2016  728815257   6/29/2016   \n",
       "98       Offline              M   7/30/2015  559427106    8/8/2015   \n",
       "99       Offline              L   2/10/2012  665095412   2/15/2012   \n",
       "\n",
       "    Units Sold  Unit Price  Unit Cost  Total Revenue  Total Cost  Total Profit  \n",
       "0         9925      255.28     159.42     2533654.00  1582243.50     951410.50  \n",
       "1         2804      205.70     117.11      576782.80   328376.44     248406.36  \n",
       "2         1779      651.21     524.96     1158502.59   933903.84     224598.75  \n",
       "3         8102        9.33       6.92       75591.66    56065.84      19525.82  \n",
       "4         5062      651.21     524.96     3296425.02  2657347.52     639077.50  \n",
       "..         ...         ...        ...            ...         ...           ...  \n",
       "95         888      109.28      35.84       97040.64    31825.92      65214.72  \n",
       "96        6267        9.33       6.92       58471.11    43367.64      15103.47  \n",
       "97        1485      154.06      90.93      228779.10   135031.05      93748.05  \n",
       "98        5767       81.73      56.67      471336.91   326815.89     144521.02  \n",
       "99        5367      668.27     502.54     3586605.09  2697132.18     889472.91  \n",
       "\n",
       "[100 rows x 14 columns]"
      ]
     },
     "execution_count": 14,
     "metadata": {},
     "output_type": "execute_result"
    }
   ],
   "source": [
    "df"
   ]
  },
  {
   "cell_type": "code",
   "execution_count": 9,
   "metadata": {},
   "outputs": [
    {
     "data": {
      "text/plain": [
       "{'Asia': Int64Index([10, 12, 14, 16, 18, 33, 38, 44, 70, 77, 96], dtype='int64'),\n",
       " 'Australia and Oceania': Int64Index([0, 5, 19, 23, 26, 32, 56, 60, 76, 79, 91], dtype='int64'),\n",
       " 'Central America and the Caribbean': Int64Index([1, 13, 22, 35, 64, 67, 94], dtype='int64'),\n",
       " 'Europe': Int64Index([ 2, 15, 20, 21, 24, 25, 28, 30, 39, 43, 46, 47, 48, 50, 57, 58, 61,\n",
       "             68, 78, 80, 89, 93],\n",
       "            dtype='int64'),\n",
       " 'Middle East and North Africa': Int64Index([36, 41, 52, 63, 71, 74, 81, 82, 88, 92], dtype='int64'),\n",
       " 'North America': Int64Index([75, 85, 98], dtype='int64'),\n",
       " 'Sub-Saharan Africa': Int64Index([ 3,  4,  6,  7,  8,  9, 11, 17, 27, 29, 31, 34, 37, 40, 42, 45, 49,\n",
       "             51, 53, 54, 55, 59, 62, 65, 66, 69, 72, 73, 83, 84, 86, 87, 90, 95,\n",
       "             97, 99],\n",
       "            dtype='int64')}"
      ]
     },
     "execution_count": 9,
     "metadata": {},
     "output_type": "execute_result"
    }
   ],
   "source": [
    "group.groups"
   ]
  },
  {
   "cell_type": "code",
   "execution_count": 10,
   "metadata": {},
   "outputs": [
    {
     "data": {
      "text/plain": [
       "Region\n",
       "Asia                                 555804.170000\n",
       "Australia and Oceania                429287.275455\n",
       "Central America and the Caribbean    406701.121429\n",
       "Europe                               503769.937727\n",
       "Middle East and North Africa         576119.186000\n",
       "North America                        485980.920000\n",
       "Sub-Saharan Africa                   338422.538889\n",
       "Name: Total Profit, dtype: float64"
      ]
     },
     "execution_count": 10,
     "metadata": {},
     "output_type": "execute_result"
    }
   ],
   "source": [
    "group.mean()"
   ]
  },
  {
   "cell_type": "code",
   "execution_count": 11,
   "metadata": {},
   "outputs": [
    {
     "data": {
      "text/plain": [
       "Region\n",
       "Asia                                  6113845.87\n",
       "Australia and Oceania                 4722160.03\n",
       "Central America and the Caribbean     2846907.85\n",
       "Europe                               11082938.63\n",
       "Middle East and North Africa          5761191.86\n",
       "North America                         1457942.76\n",
       "Sub-Saharan Africa                   12183211.40\n",
       "Name: Total Profit, dtype: float64"
      ]
     },
     "execution_count": 11,
     "metadata": {},
     "output_type": "execute_result"
    }
   ],
   "source": [
    "group.sum()"
   ]
  },
  {
   "cell_type": "code",
   "execution_count": 12,
   "metadata": {},
   "outputs": [
    {
     "data": {
      "text/plain": [
       "Region\n",
       "Asia                                 1367272.50\n",
       "Australia and Oceania                1678540.98\n",
       "Central America and the Caribbean    1487261.02\n",
       "Europe                               1541705.29\n",
       "Middle East and North Africa         1719922.04\n",
       "North America                        1152486.42\n",
       "Sub-Saharan Africa                   1254472.05\n",
       "Name: Total Profit, dtype: float64"
      ]
     },
     "execution_count": 12,
     "metadata": {},
     "output_type": "execute_result"
    }
   ],
   "source": [
    "group.max()"
   ]
  },
  {
   "cell_type": "code",
   "execution_count": 13,
   "metadata": {},
   "outputs": [
    {
     "data": {
      "text/plain": [
       "Region\n",
       "Asia                                   7828.12\n",
       "Australia and Oceania                  5270.67\n",
       "Central America and the Caribbean    122686.50\n",
       "Europe                                 6841.38\n",
       "Middle East and North Africa           1258.02\n",
       "North America                        144521.02\n",
       "Sub-Saharan Africa                    14031.02\n",
       "Name: Total Profit, dtype: float64"
      ]
     },
     "execution_count": 13,
     "metadata": {},
     "output_type": "execute_result"
    }
   ],
   "source": [
    "group.min()"
   ]
  },
  {
   "cell_type": "code",
   "execution_count": 23,
   "metadata": {},
   "outputs": [],
   "source": [
    "grp1=df['Total Profit'].groupby([df['Region'],df['Item Type']])"
   ]
  },
  {
   "cell_type": "code",
   "execution_count": 24,
   "metadata": {},
   "outputs": [
    {
     "data": {
      "text/plain": [
       "<pandas.core.groupby.generic.SeriesGroupBy object at 0x04D05110>"
      ]
     },
     "execution_count": 24,
     "metadata": {},
     "output_type": "execute_result"
    }
   ],
   "source": [
    "grp1"
   ]
  },
  {
   "cell_type": "code",
   "execution_count": 25,
   "metadata": {},
   "outputs": [
    {
     "data": {
      "text/plain": [
       "{('Asia', 'Clothes'): Int64Index([12, 44], dtype='int64'),\n",
       " ('Asia', 'Cosmetics'): Int64Index([16], dtype='int64'),\n",
       " ('Asia', 'Fruits'): Int64Index([96], dtype='int64'),\n",
       " ('Asia', 'Household'): Int64Index([18, 33], dtype='int64'),\n",
       " ('Asia', 'Office Supplies'): Int64Index([38, 70], dtype='int64'),\n",
       " ('Asia', 'Personal Care'): Int64Index([14], dtype='int64'),\n",
       " ('Asia', 'Vegetables'): Int64Index([10, 77], dtype='int64'),\n",
       " ('Australia and Oceania', 'Baby Food'): Int64Index([0, 5], dtype='int64'),\n",
       " ('Australia and Oceania', 'Beverages'): Int64Index([76, 91], dtype='int64'),\n",
       " ('Australia and Oceania', 'Cereal'): Int64Index([60], dtype='int64'),\n",
       " ('Australia and Oceania', 'Clothes'): Int64Index([56], dtype='int64'),\n",
       " ('Australia and Oceania', 'Cosmetics'): Int64Index([79], dtype='int64'),\n",
       " ('Australia and Oceania', 'Fruits'): Int64Index([23, 26], dtype='int64'),\n",
       " ('Australia and Oceania', 'Meat'): Int64Index([19], dtype='int64'),\n",
       " ('Australia and Oceania', 'Office Supplies'): Int64Index([32], dtype='int64'),\n",
       " ('Central America and the Caribbean',\n",
       "  'Beverages'): Int64Index([94], dtype='int64'),\n",
       " ('Central America and the Caribbean',\n",
       "  'Cereal'): Int64Index([1], dtype='int64'),\n",
       " ('Central America and the Caribbean',\n",
       "  'Clothes'): Int64Index([67], dtype='int64'),\n",
       " ('Central America and the Caribbean',\n",
       "  'Cosmetics'): Int64Index([64], dtype='int64'),\n",
       " ('Central America and the Caribbean',\n",
       "  'Household'): Int64Index([13], dtype='int64'),\n",
       " ('Central America and the Caribbean',\n",
       "  'Personal Care'): Int64Index([35], dtype='int64'),\n",
       " ('Central America and the Caribbean',\n",
       "  'Snacks'): Int64Index([22], dtype='int64'),\n",
       " ('Europe', 'Baby Food'): Int64Index([20, 21, 61, 78], dtype='int64'),\n",
       " ('Europe', 'Beverages'): Int64Index([28, 89], dtype='int64'),\n",
       " ('Europe', 'Clothes'): Int64Index([15, 48, 50], dtype='int64'),\n",
       " ('Europe', 'Cosmetics'): Int64Index([25, 30, 46, 57, 93], dtype='int64'),\n",
       " ('Europe', 'Household'): Int64Index([58, 80], dtype='int64'),\n",
       " ('Europe', 'Office Supplies'): Int64Index([2, 39, 68], dtype='int64'),\n",
       " ('Europe', 'Personal Care'): Int64Index([24, 47], dtype='int64'),\n",
       " ('Europe', 'Vegetables'): Int64Index([43], dtype='int64'),\n",
       " ('Middle East and North Africa', 'Cereal'): Int64Index([52], dtype='int64'),\n",
       " ('Middle East and North Africa',\n",
       "  'Clothes'): Int64Index([63, 81], dtype='int64'),\n",
       " ('Middle East and North Africa',\n",
       "  'Cosmetics'): Int64Index([41, 74, 82], dtype='int64'),\n",
       " ('Middle East and North Africa',\n",
       "  'Fruits'): Int64Index([36, 71, 88], dtype='int64'),\n",
       " ('Middle East and North Africa',\n",
       "  'Office Supplies'): Int64Index([92], dtype='int64'),\n",
       " ('North America', 'Household'): Int64Index([75], dtype='int64'),\n",
       " ('North America', 'Personal Care'): Int64Index([85, 98], dtype='int64'),\n",
       " ('Sub-Saharan Africa', 'Baby Food'): Int64Index([87], dtype='int64'),\n",
       " ('Sub-Saharan Africa', 'Beverages'): Int64Index([17, 72, 86], dtype='int64'),\n",
       " ('Sub-Saharan Africa', 'Cereal'): Int64Index([9, 42, 45, 73], dtype='int64'),\n",
       " ('Sub-Saharan Africa',\n",
       "  'Clothes'): Int64Index([11, 55, 69, 95], dtype='int64'),\n",
       " ('Sub-Saharan Africa', 'Cosmetics'): Int64Index([59, 65], dtype='int64'),\n",
       " ('Sub-Saharan Africa', 'Fruits'): Int64Index([3, 27, 51, 54], dtype='int64'),\n",
       " ('Sub-Saharan Africa', 'Household'): Int64Index([6, 29, 99], dtype='int64'),\n",
       " ('Sub-Saharan Africa', 'Meat'): Int64Index([37], dtype='int64'),\n",
       " ('Sub-Saharan Africa',\n",
       "  'Office Supplies'): Int64Index([4, 49, 53, 62, 90], dtype='int64'),\n",
       " ('Sub-Saharan Africa',\n",
       "  'Personal Care'): Int64Index([8, 31, 40, 66], dtype='int64'),\n",
       " ('Sub-Saharan Africa', 'Snacks'): Int64Index([34, 83], dtype='int64'),\n",
       " ('Sub-Saharan Africa', 'Vegetables'): Int64Index([7, 84, 97], dtype='int64')}"
      ]
     },
     "execution_count": 25,
     "metadata": {},
     "output_type": "execute_result"
    }
   ],
   "source": [
    "grp1.groups"
   ]
  },
  {
   "cell_type": "code",
   "execution_count": 26,
   "metadata": {},
   "outputs": [
    {
     "data": {
      "text/plain": [
       "Region                             Item Type      \n",
       "Asia                               Clothes            1042333.92\n",
       "                                   Cosmetics          1208744.24\n",
       "                                   Fruits               15103.47\n",
       "                                   Household          2002018.40\n",
       "                                   Office Supplies    1479397.50\n",
       "                                   Personal Care       122819.06\n",
       "                                   Vegetables          243429.28\n",
       "Australia and Oceania              Baby Food          1236498.14\n",
       "                                   Beverages           293906.88\n",
       "                                   Cereal               60418.38\n",
       "                                   Clothes             727423.20\n",
       "                                   Cosmetics          1678540.98\n",
       "                                   Fruits               18279.85\n",
       "                                   Meat                337937.60\n",
       "                                   Office Supplies     369155.00\n",
       "Central America and the Caribbean  Beverages           127722.96\n",
       "                                   Cereal              248406.36\n",
       "                                   Clothes             403773.12\n",
       "                                   Cosmetics           296448.35\n",
       "                                   Household          1487261.02\n",
       "                                   Personal Care       160609.54\n",
       "                                   Snacks              122686.50\n",
       "Europe                             Baby Food          2117259.82\n",
       "                                   Beverages           153217.44\n",
       "                                   Clothes             865416.96\n",
       "                                   Cosmetics          5233487.00\n",
       "                                   Household           794675.35\n",
       "                                   Office Supplies    1774191.25\n",
       "                                   Personal Care       133895.58\n",
       "                                   Vegetables           10795.23\n",
       "Middle East and North Africa       Cereal              359941.17\n",
       "                                   Clothes            1028160.00\n",
       "                                   Cosmetics          4105940.05\n",
       "                                   Fruits               11999.39\n",
       "                                   Office Supplies     255151.25\n",
       "North America                      Household          1152486.42\n",
       "                                   Personal Care       305456.34\n",
       "Sub-Saharan Africa                 Baby Food           532885.74\n",
       "                                   Beverages           313200.00\n",
       "                                   Cereal             1623677.52\n",
       "                                   Clothes            1166227.20\n",
       "                                   Cosmetics          2032888.04\n",
       "                                   Fruits               75112.47\n",
       "                                   Household          1976164.52\n",
       "                                   Meat                272672.40\n",
       "                                   Office Supplies    2051688.75\n",
       "                                   Personal Care       497841.96\n",
       "                                   Snacks              629257.68\n",
       "                                   Vegetables         1011595.12\n",
       "Name: Total Profit, dtype: float64"
      ]
     },
     "execution_count": 26,
     "metadata": {},
     "output_type": "execute_result"
    }
   ],
   "source": [
    "grp1.sum()"
   ]
  },
  {
   "cell_type": "code",
   "execution_count": 31,
   "metadata": {},
   "outputs": [],
   "source": [
    "grp2=df['Total Profit'],df['Unit Price'].groupby(df['Region'])"
   ]
  },
  {
   "cell_type": "code",
   "execution_count": 32,
   "metadata": {},
   "outputs": [
    {
     "data": {
      "text/plain": [
       "(0     951410.50\n",
       " 1     248406.36\n",
       " 2     224598.75\n",
       " 3      19525.82\n",
       " 4     639077.50\n",
       "         ...    \n",
       " 95     65214.72\n",
       " 96     15103.47\n",
       " 97     93748.05\n",
       " 98    144521.02\n",
       " 99    889472.91\n",
       " Name: Total Profit, Length: 100, dtype: float64,\n",
       " <pandas.core.groupby.generic.SeriesGroupBy object at 0x04D05970>)"
      ]
     },
     "execution_count": 32,
     "metadata": {},
     "output_type": "execute_result"
    }
   ],
   "source": [
    "grp2"
   ]
  },
  {
   "cell_type": "code",
   "execution_count": 33,
   "metadata": {},
   "outputs": [
    {
     "ename": "AttributeError",
     "evalue": "'tuple' object has no attribute 'sum'",
     "output_type": "error",
     "traceback": [
      "\u001b[1;31m---------------------------------------------------------------------------\u001b[0m",
      "\u001b[1;31mAttributeError\u001b[0m                            Traceback (most recent call last)",
      "\u001b[1;32m<ipython-input-33-a073b73829c9>\u001b[0m in \u001b[0;36m<module>\u001b[1;34m\u001b[0m\n\u001b[1;32m----> 1\u001b[1;33m \u001b[0mgrp2\u001b[0m\u001b[1;33m.\u001b[0m\u001b[0msum\u001b[0m\u001b[1;33m(\u001b[0m\u001b[1;33m)\u001b[0m\u001b[1;33m\u001b[0m\u001b[1;33m\u001b[0m\u001b[0m\n\u001b[0m",
      "\u001b[1;31mAttributeError\u001b[0m: 'tuple' object has no attribute 'sum'"
     ]
    }
   ],
   "source": [
    "grp2.sum()"
   ]
  },
  {
   "cell_type": "code",
   "execution_count": null,
   "metadata": {},
   "outputs": [],
   "source": []
  }
 ],
 "metadata": {
  "kernelspec": {
   "display_name": "Python 3",
   "language": "python",
   "name": "python3"
  },
  "language_info": {
   "codemirror_mode": {
    "name": "ipython",
    "version": 3
   },
   "file_extension": ".py",
   "mimetype": "text/x-python",
   "name": "python",
   "nbconvert_exporter": "python",
   "pygments_lexer": "ipython3",
   "version": "3.7.3"
  }
 },
 "nbformat": 4,
 "nbformat_minor": 4
}
